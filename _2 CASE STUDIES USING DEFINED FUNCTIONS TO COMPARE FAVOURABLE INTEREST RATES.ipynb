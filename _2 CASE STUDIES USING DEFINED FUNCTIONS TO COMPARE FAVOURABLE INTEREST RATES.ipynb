{
 "cells": [
  {
   "cell_type": "code",
   "execution_count": 1,
   "id": "0c03ea92-de95-41f7-a8c6-bbfd9118e6ca",
   "metadata": {},
   "outputs": [],
   "source": [
    " #writting great functions in python\n",
    "#CASE STUDY :1"
   ]
  },
  {
   "cell_type": "code",
   "execution_count": 2,
   "id": "d8abf8cb-a32f-4846-93c7-89c31bcbe97f",
   "metadata": {},
   "outputs": [],
   "source": [
    "#Q- Ken is planning to buy a house worth $1260000.Heconciders two options to finance his purchase.\n",
    "#Option 1: Make an immediate down_payment of 300000 and take a 8 year loan with interest rate  of 10% per annum(compounded monthly) for the remaining months.\n",
    "#optiond 2:take a 10 year loan with a an interest rate of 8% per annum(compound monthly)for the entire  amount.\n",
    "#Both of these  loans have to be paid in equal monthly instalments(EMIs).\n",
    "#Which loan has a lower EMIs among the two?"
   ]
  },
  {
   "cell_type": "code",
   "execution_count": 3,
   "id": "75a28bab-f325-47d5-884a-00bd364f0b90",
   "metadata": {},
   "outputs": [],
   "source": [
    "def loan_EMI(amount):\n",
    "    EMI = amount/12\n",
    "    print(\"The EMI is {}.\".format(EMI))"
   ]
  },
  {
   "cell_type": "code",
   "execution_count": 4,
   "id": "6b26114b-5dc4-4db6-9ae6-cba9f4ed296f",
   "metadata": {},
   "outputs": [
    {
     "name": "stdout",
     "output_type": "stream",
     "text": [
      "The EMI is 105000.0.\n"
     ]
    }
   ],
   "source": [
    "loan_EMI(1260000)"
   ]
  },
  {
   "cell_type": "code",
   "execution_count": 5,
   "id": "467b3488-6118-4562-9c50-b47c1905f632",
   "metadata": {},
   "outputs": [],
   "source": [
    "def loan_EMI(amount,duration):\n",
    "    EMI = amount/duration\n",
    "    print(\"The EMI is {}.\".format(EMI))"
   ]
  },
  {
   "cell_type": "code",
   "execution_count": 6,
   "id": "23df9dec-5d2a-41e2-bab2-710ca367a918",
   "metadata": {},
   "outputs": [
    {
     "name": "stdout",
     "output_type": "stream",
     "text": [
      "The EMI is 13125.0.\n"
     ]
    }
   ],
   "source": [
    "loan_EMI(1260000,8*12)"
   ]
  },
  {
   "cell_type": "code",
   "execution_count": 7,
   "id": "ed55b0db-4369-4073-a385-c0221d8c6b99",
   "metadata": {},
   "outputs": [
    {
     "name": "stdout",
     "output_type": "stream",
     "text": [
      "The EMI is 10500.0.\n"
     ]
    }
   ],
   "source": [
    "loan_EMI(1260000,10*12)"
   ]
  },
  {
   "cell_type": "code",
   "execution_count": 8,
   "id": "4ba4fc5d-3266-428e-ac61-879bb8fe51bc",
   "metadata": {},
   "outputs": [],
   "source": [
    "def loan_EMI(amount,duration):\n",
    "    EMI = amount/duration\n",
    "    return EMI"
   ]
  },
  {
   "cell_type": "code",
   "execution_count": 9,
   "id": "448f3c22-21e2-425b-8643-263a64daaa7f",
   "metadata": {},
   "outputs": [
    {
     "data": {
      "text/plain": [
       "13125.0"
      ]
     },
     "execution_count": 9,
     "metadata": {},
     "output_type": "execute_result"
    }
   ],
   "source": [
    "emi1 = loan_EMI(1260000,8*12)\n",
    "emi1"
   ]
  },
  {
   "cell_type": "code",
   "execution_count": 10,
   "id": "0072c76d-4b6c-412b-a052-b1e9028df78c",
   "metadata": {},
   "outputs": [
    {
     "data": {
      "text/plain": [
       "10500.0"
      ]
     },
     "execution_count": 10,
     "metadata": {},
     "output_type": "execute_result"
    }
   ],
   "source": [
    "emi2 = loan_EMI(1260000,10*12)\n",
    "emi2"
   ]
  },
  {
   "cell_type": "code",
   "execution_count": 11,
   "id": "c53ec6fb-0146-48e3-b6d2-73d259925da9",
   "metadata": {},
   "outputs": [
    {
     "data": {
      "text/plain": [
       "2625.0"
      ]
     },
     "execution_count": 11,
     "metadata": {},
     "output_type": "execute_result"
    }
   ],
   "source": [
    "emi1 - emi2"
   ]
  },
  {
   "cell_type": "code",
   "execution_count": 12,
   "id": "080d262d-f947-4f98-a00a-112aba755067",
   "metadata": {},
   "outputs": [],
   "source": [
    "#optional arguments with down_payments"
   ]
  },
  {
   "cell_type": "code",
   "execution_count": 13,
   "id": "d7843c85-6228-4752-b805-012f47c89fa9",
   "metadata": {},
   "outputs": [],
   "source": [
    "def loan_EMI(amount,duration,down_payment = 0):\n",
    "    loan_amount = amount - down_payment\n",
    "    EMI = loan_amount / duration\n",
    "    return EMI"
   ]
  },
  {
   "cell_type": "code",
   "execution_count": 14,
   "id": "0e973c8d-37c4-419d-82b0-50eb433fe843",
   "metadata": {},
   "outputs": [],
   "source": [
    "def loan_EMI(amount,duration,rate,down_payment = 0):\n",
    "    loan_amount = amount - down_payment\n",
    "    EMI = loan_amount * rate * ((1+rate)**duration)/(((1+rate)**duration)-1)\n",
    "    return EMI"
   ]
  },
  {
   "cell_type": "code",
   "execution_count": 16,
   "id": "a75f5f3f-2e57-453d-8aed-8d2de694aebe",
   "metadata": {},
   "outputs": [
    {
     "data": {
      "text/plain": [
       "14567.19753389219"
      ]
     },
     "execution_count": 16,
     "metadata": {},
     "output_type": "execute_result"
    }
   ],
   "source": [
    "emi1 = loan_EMI(1260000,8*12,0.1/12,300000)\n",
    "emi1"
   ]
  },
  {
   "cell_type": "code",
   "execution_count": 18,
   "id": "45ddfe7f-95ca-4c62-9706-5d3012bc0526",
   "metadata": {},
   "outputs": [
    {
     "data": {
      "text/plain": [
       "15287.276888775077"
      ]
     },
     "execution_count": 18,
     "metadata": {},
     "output_type": "execute_result"
    }
   ],
   "source": [
    "emi2 = loan_EMI(1260000,10*12,0.08/12)\n",
    "emi2"
   ]
  },
  {
   "cell_type": "code",
   "execution_count": 19,
   "id": "fe2162d6-ae56-4938-880d-730e917deb0b",
   "metadata": {},
   "outputs": [],
   "source": [
    "#for comparison purposes with simple whole numbers we call the math function to round up the decimal places.\n"
   ]
  },
  {
   "cell_type": "code",
   "execution_count": 20,
   "id": "8541ccad-e605-4d47-b303-9fb8c926f15b",
   "metadata": {},
   "outputs": [],
   "source": [
    "import math"
   ]
  },
  {
   "cell_type": "code",
   "execution_count": 21,
   "id": "6333e1fc-626f-456c-83c4-902b9335a53c",
   "metadata": {},
   "outputs": [],
   "source": [
    "def loan_EMI(amount,duration,rate,down_payment = 0):\n",
    "    loan_amount = amount - down_payment\n",
    "    EMI = loan_amount * rate * ((1+rate)**duration)/(((1+rate)**duration)-1)\n",
    "    EMI = math.ceil(EMI)\n",
    "    return EMI"
   ]
  },
  {
   "cell_type": "code",
   "execution_count": 22,
   "id": "998f9b84-2f9f-4e47-b9f6-fef8a3692775",
   "metadata": {},
   "outputs": [
    {
     "data": {
      "text/plain": [
       "14568"
      ]
     },
     "execution_count": 22,
     "metadata": {},
     "output_type": "execute_result"
    }
   ],
   "source": [
    "emi1 = loan_EMI(amount = 1260000,duration=8*12,rate = 0.1/12,down_payment = 3e5)\n",
    "emi1"
   ]
  },
  {
   "cell_type": "code",
   "execution_count": 23,
   "id": "58adfc79-7e92-4d26-b4b5-3430e08848cd",
   "metadata": {},
   "outputs": [
    {
     "data": {
      "text/plain": [
       "15288"
      ]
     },
     "execution_count": 23,
     "metadata": {},
     "output_type": "execute_result"
    }
   ],
   "source": [
    "emi2  =loan_EMI(amount = 1260000,duration = 10*12,rate = 0.08/12)\n",
    "emi2"
   ]
  },
  {
   "cell_type": "code",
   "execution_count": 24,
   "id": "56c18bf1-1f4c-4a96-8b55-c4d635c28b8e",
   "metadata": {},
   "outputs": [],
   "source": [
    "#with this we get the favourable EMI to pick\n"
   ]
  },
  {
   "cell_type": "code",
   "execution_count": 25,
   "id": "174e9f46-0798-4aaf-94a1-5d018e4855c2",
   "metadata": {},
   "outputs": [
    {
     "name": "stdout",
     "output_type": "stream",
     "text": [
      "Option 1 has a lower EMI :$14568 \n"
     ]
    }
   ],
   "source": [
    "if emi1 < emi2:\n",
    "    print(\"Option 1 has a lower EMI :${} \".format(emi1))\n",
    "else:\n",
    "    print(\"Option 2 has a lower EMI :${}\".format(emi2))"
   ]
  },
  {
   "cell_type": "code",
   "execution_count": 26,
   "id": "cbee954d-00e1-488a-b4b1-a41d870250c5",
   "metadata": {},
   "outputs": [],
   "source": [
    "# CASE STUDY  2"
   ]
  },
  {
   "cell_type": "code",
   "execution_count": 27,
   "id": "fbd6820f-7c7b-40e8-a92c-efc17f186469",
   "metadata": {},
   "outputs": [],
   "source": [
    "#Q -- Brian is currently paying back a home loan for a house a few days ago.The cost of the house was $800000.Brianmade a down payment of 25% of the cost ,and financed the rest of the amount using a 6 year loan plan with a 7% per annum \n",
    "#Brian is now buying a car worth %60000,whuch he is planing to finance using a one year loan with an interest of 12% per annum.Both palns are payed back in EMIs.\n",
    "#What is the tgoatal mpnthly payment taht brian pays at the of the month."
   ]
  },
  {
   "cell_type": "code",
   "execution_count": 28,
   "id": "a8f7aef1-af80-4529-b990-d48db7b37086",
   "metadata": {},
   "outputs": [
    {
     "data": {
      "text/plain": [
       "10230"
      ]
     },
     "execution_count": 28,
     "metadata": {},
     "output_type": "execute_result"
    }
   ],
   "source": [
    "cost_of_house = 800000\n",
    "home_loan_duration = 6*12 # months\n",
    "home_loan_rate = 0.07/12 #months\n",
    "home_down_payment = .25 * 800000\n",
    "emi_house = loan_EMI(amount=cost_of_house,duration=home_loan_duration,rate=home_loan_rate,down_payment=home_down_payment)\n",
    "emi_house"
   ]
  },
  {
   "cell_type": "code",
   "execution_count": 29,
   "id": "5e34bfbb-679a-41f4-a0ad-c85515057aa3",
   "metadata": {},
   "outputs": [
    {
     "data": {
      "text/plain": [
       "5331"
      ]
     },
     "execution_count": 29,
     "metadata": {},
     "output_type": "execute_result"
    }
   ],
   "source": [
    "cost_of_car = 60000\n",
    "car_loan_duration = 1 * 12 # months\n",
    "car_loan_rate = .12/12 # months\n",
    "emi_car = loan_EMI(amount= cost_of_car,duration = car_loan_duration,rate=car_loan_rate)\n",
    "emi_car"
   ]
  },
  {
   "cell_type": "code",
   "execution_count": 30,
   "id": "4c3447c9-c4c3-4c13-96ff-01cee665b243",
   "metadata": {},
   "outputs": [
    {
     "name": "stdout",
     "output_type": "stream",
     "text": [
      "brian makes a monthly payment of 15561 towards loan repaymentt\n"
     ]
    }
   ],
   "source": [
    "print(\"brian makes a monthly payment of {} towards loan repaymentt\".format(emi_house+emi_car))"
   ]
  },
  {
   "cell_type": "code",
   "execution_count": null,
   "id": "8debb5f9-28c6-4335-95a2-b9b0dfaca0e5",
   "metadata": {},
   "outputs": [],
   "source": []
  }
 ],
 "metadata": {
  "kernelspec": {
   "display_name": "Python 3 (ipykernel)",
   "language": "python",
   "name": "python3"
  },
  "language_info": {
   "codemirror_mode": {
    "name": "ipython",
    "version": 3
   },
   "file_extension": ".py",
   "mimetype": "text/x-python",
   "name": "python",
   "nbconvert_exporter": "python",
   "pygments_lexer": "ipython3",
   "version": "3.11.5"
  }
 },
 "nbformat": 4,
 "nbformat_minor": 5
}
